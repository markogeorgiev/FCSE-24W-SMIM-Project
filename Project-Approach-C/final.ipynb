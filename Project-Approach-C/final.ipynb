{
 "cells": [
  {
   "metadata": {
    "ExecuteTime": {
     "end_time": "2025-05-31T17:47:15.487876Z",
     "start_time": "2025-05-31T17:47:00.722861Z"
    }
   },
   "cell_type": "code",
   "outputs": [],
   "execution_count": 1,
   "source": [
    "import os\n",
    "import sys\n",
    "import pandas as pd\n",
    "import networkx as nx\n",
    "import torch\n",
    "from torch_geometric.data import Data\n",
    "from sklearn.preprocessing import LabelEncoder, StandardScaler\n",
    "import numpy as np\n",
    "\n",
    "parent_dir = os.path.abspath(os.path.join(os.getcwd(), \"..\", \"..\"))\n",
    "utils_path = os.path.join(parent_dir, \"project_utils\")\n",
    "sys.path.append(utils_path)\n",
    "\n",
    "CSV_PATH = '../datasets/data/NF-ToN-IoT.csv'"
   ],
   "id": "dba778cbc3c82ae"
  },
  {
   "metadata": {
    "ExecuteTime": {
     "end_time": "2025-05-31T17:47:17.809408Z",
     "start_time": "2025-05-31T17:47:15.511941Z"
    }
   },
   "cell_type": "code",
   "outputs": [],
   "execution_count": 2,
   "source": [
    "df = pd.read_csv(CSV_PATH)\n",
    "\n",
    "# Encode labels\n",
    "label_encoder = LabelEncoder()\n",
    "df[\"label\"] = label_encoder.fit_transform(df[\"Label\"])\n",
    "\n",
    "features = [\n",
    "    \"IN_BYTES\", \"OUT_BYTES\", \"IN_PKTS\", \"OUT_PKTS\",\n",
    "    \"FLOW_DURATION_MILLISECONDS\", \"TCP_FLAGS\", \"L7_PROTO\"\n",
    "]"
   ],
   "id": "b6f9926fb64bb013"
  },
  {
   "metadata": {
    "ExecuteTime": {
     "end_time": "2025-05-31T17:47:18.887621Z",
     "start_time": "2025-05-31T17:47:18.316630Z"
    }
   },
   "cell_type": "code",
   "outputs": [],
   "execution_count": 3,
   "source": [
    "node_features = df.groupby(\"IPV4_SRC_ADDR\")[features].mean()\n",
    "node_labels = df.groupby(\"IPV4_SRC_ADDR\")[\"label\"].agg(lambda x: x.mode()[0])  # majority label\n",
    "\n",
    "scaler = StandardScaler()\n",
    "x = scaler.fit_transform(node_features)\n",
    "\n",
    "ip_to_idx = {ip: i for i, ip in enumerate(node_features.index)}"
   ],
   "id": "78b419d3dfe15066"
  },
  {
   "metadata": {
    "ExecuteTime": {
     "end_time": "2025-05-31T17:54:31.584806Z",
     "start_time": "2025-05-31T17:52:49.106542Z"
    }
   },
   "cell_type": "code",
   "source": [
    "# Ensure all necessary libraries are imported\n",
    "import torch\n",
    "\n",
    "# Your mapping from IP to index\n",
    "ip_to_idx = {ip: i for i, ip in enumerate(node_features.index)}\n",
    "\n",
    "# Build edge list: convert to indices\n",
    "edges = []\n",
    "for _, row in df.iterrows():\n",
    "    src_ip = row[\"IPV4_SRC_ADDR\"]\n",
    "    dst_ip = row[\"IPV4_DST_ADDR\"]\n",
    "    if src_ip in ip_to_idx and dst_ip in ip_to_idx:\n",
    "        src_idx = ip_to_idx[src_ip]\n",
    "        dst_idx = ip_to_idx[dst_ip]\n",
    "        edges.append([src_idx, dst_idx])\n",
    "\n",
    "# Convert to tensor and transpose to shape [2, num_edges]\n",
    "if edges:\n",
    "    edge_index = torch.tensor(edges, dtype=torch.long).t().contiguous()\n",
    "else:\n",
    "    raise ValueError(\"No valid edges found — check that IPs in df match those in node_features.index\")"
   ],
   "id": "95b607915d2cf315",
   "outputs": [],
   "execution_count": 11
  },
  {
   "metadata": {
    "ExecuteTime": {
     "end_time": "2025-05-31T17:54:40.569711Z",
     "start_time": "2025-05-31T17:54:40.561369Z"
    }
   },
   "cell_type": "code",
   "source": [
    "print(\"Edge index shape:\", edge_index.shape)\n",
    "print(\"Edge index dtype:\", edge_index.dtype)"
   ],
   "id": "489b2040456a99db",
   "outputs": [
    {
     "name": "stdout",
     "output_type": "stream",
     "text": [
      "Edge index shape: torch.Size([2, 1334142])\n",
      "Edge index dtype: torch.int64\n"
     ]
    }
   ],
   "execution_count": 12
  },
  {
   "metadata": {
    "ExecuteTime": {
     "end_time": "2025-05-31T17:55:16.374935Z",
     "start_time": "2025-05-31T17:55:16.337224Z"
    }
   },
   "cell_type": "code",
   "source": [
    "data = Data(\n",
    "    x=torch.tensor(x, dtype=torch.float),\n",
    "    edge_index=edge_index,\n",
    "    y=torch.tensor(node_labels.values, dtype=torch.long)\n",
    ")"
   ],
   "id": "15c451a46ec6c8a7",
   "outputs": [],
   "execution_count": 13
  },
  {
   "metadata": {
    "ExecuteTime": {
     "end_time": "2025-05-31T17:55:18.065085Z",
     "start_time": "2025-05-31T17:55:18.056225Z"
    }
   },
   "cell_type": "code",
   "source": [
    "import torch.nn as nn\n",
    "from torch_geometric.nn import GCNConv\n",
    "import torch.nn.functional as F\n",
    "\n",
    "class GCN(nn.Module):\n",
    "    def __init__(self, in_channels, hidden_channels, out_channels):\n",
    "        super().__init__()\n",
    "        self.conv1 = GCNConv(in_channels, hidden_channels)\n",
    "        self.conv2 = GCNConv(hidden_channels, out_channels)\n",
    "\n",
    "    def forward(self, data):\n",
    "        x, edge_index = data.x, data.edge_index\n",
    "        x = F.relu(self.conv1(x, edge_index))\n",
    "        x = self.conv2(x, edge_index)\n",
    "        return x"
   ],
   "id": "5f2d379b58fd3def",
   "outputs": [],
   "execution_count": 14
  },
  {
   "metadata": {
    "ExecuteTime": {
     "end_time": "2025-05-31T17:55:52.593692Z",
     "start_time": "2025-05-31T17:55:20.100119Z"
    }
   },
   "cell_type": "code",
   "source": [
    "model = GCN(in_channels=x.shape[1], hidden_channels=16, out_channels=len(label_encoder.classes_))\n",
    "optimizer = torch.optim.Adam(model.parameters(), lr=0.01)\n",
    "loss_fn = nn.CrossEntropyLoss()\n",
    "\n",
    "# Split (e.g., 70/30)\n",
    "from sklearn.model_selection import train_test_split\n",
    "idx = np.arange(data.num_nodes)\n",
    "train_idx, test_idx = train_test_split(idx, test_size=0.3, stratify=data.y)\n",
    "\n",
    "for epoch in range(100):\n",
    "    model.train()\n",
    "    optimizer.zero_grad()\n",
    "    out = model(data)\n",
    "    loss = loss_fn(out[train_idx], data.y[train_idx])\n",
    "    loss.backward()\n",
    "    optimizer.step()\n",
    "\n",
    "    print(f\"Epoch {epoch}, Loss: {loss.item():.4f}\")"
   ],
   "id": "5bbbd4b51e1b7201",
   "outputs": [
    {
     "name": "stdout",
     "output_type": "stream",
     "text": [
      "Epoch 0, Loss: 0.8764\n",
      "Epoch 1, Loss: 0.8183\n",
      "Epoch 2, Loss: 0.7632\n",
      "Epoch 3, Loss: 0.7116\n",
      "Epoch 4, Loss: 0.6655\n",
      "Epoch 5, Loss: 0.6261\n",
      "Epoch 6, Loss: 0.5958\n",
      "Epoch 7, Loss: 0.5749\n",
      "Epoch 8, Loss: 0.5583\n",
      "Epoch 9, Loss: 0.5434\n",
      "Epoch 10, Loss: 0.5297\n",
      "Epoch 11, Loss: 0.5168\n",
      "Epoch 12, Loss: 0.5048\n",
      "Epoch 13, Loss: 0.4934\n",
      "Epoch 14, Loss: 0.4828\n",
      "Epoch 15, Loss: 0.4728\n",
      "Epoch 16, Loss: 0.4634\n",
      "Epoch 17, Loss: 0.4544\n",
      "Epoch 18, Loss: 0.4459\n",
      "Epoch 19, Loss: 0.4378\n",
      "Epoch 20, Loss: 0.4302\n",
      "Epoch 21, Loss: 0.4229\n",
      "Epoch 22, Loss: 0.4161\n",
      "Epoch 23, Loss: 0.4096\n",
      "Epoch 24, Loss: 0.4035\n",
      "Epoch 25, Loss: 0.3977\n",
      "Epoch 26, Loss: 0.3921\n",
      "Epoch 27, Loss: 0.3869\n",
      "Epoch 28, Loss: 0.3818\n",
      "Epoch 29, Loss: 0.3769\n",
      "Epoch 30, Loss: 0.3723\n",
      "Epoch 31, Loss: 0.3679\n",
      "Epoch 32, Loss: 0.3635\n",
      "Epoch 33, Loss: 0.3595\n",
      "Epoch 34, Loss: 0.3555\n",
      "Epoch 35, Loss: 0.3517\n",
      "Epoch 36, Loss: 0.3480\n",
      "Epoch 37, Loss: 0.3445\n",
      "Epoch 38, Loss: 0.3411\n",
      "Epoch 39, Loss: 0.3379\n",
      "Epoch 40, Loss: 0.3346\n",
      "Epoch 41, Loss: 0.3316\n",
      "Epoch 42, Loss: 0.3286\n",
      "Epoch 43, Loss: 0.3258\n",
      "Epoch 44, Loss: 0.3230\n",
      "Epoch 45, Loss: 0.3203\n",
      "Epoch 46, Loss: 0.3177\n",
      "Epoch 47, Loss: 0.3151\n",
      "Epoch 48, Loss: 0.3127\n",
      "Epoch 49, Loss: 0.3103\n",
      "Epoch 50, Loss: 0.3079\n",
      "Epoch 51, Loss: 0.3056\n",
      "Epoch 52, Loss: 0.3034\n",
      "Epoch 53, Loss: 0.3011\n",
      "Epoch 54, Loss: 0.2988\n",
      "Epoch 55, Loss: 0.2966\n",
      "Epoch 56, Loss: 0.2944\n",
      "Epoch 57, Loss: 0.2922\n",
      "Epoch 58, Loss: 0.2901\n",
      "Epoch 59, Loss: 0.2882\n",
      "Epoch 60, Loss: 0.2863\n",
      "Epoch 61, Loss: 0.2845\n",
      "Epoch 62, Loss: 0.2826\n",
      "Epoch 63, Loss: 0.2808\n",
      "Epoch 64, Loss: 0.2791\n",
      "Epoch 65, Loss: 0.2773\n",
      "Epoch 66, Loss: 0.2756\n",
      "Epoch 67, Loss: 0.2739\n",
      "Epoch 68, Loss: 0.2722\n",
      "Epoch 69, Loss: 0.2704\n",
      "Epoch 70, Loss: 0.2685\n",
      "Epoch 71, Loss: 0.2668\n",
      "Epoch 72, Loss: 0.2650\n",
      "Epoch 73, Loss: 0.2634\n",
      "Epoch 74, Loss: 0.2620\n",
      "Epoch 75, Loss: 0.2605\n",
      "Epoch 76, Loss: 0.2591\n",
      "Epoch 77, Loss: 0.2576\n",
      "Epoch 78, Loss: 0.2561\n",
      "Epoch 79, Loss: 0.2546\n",
      "Epoch 80, Loss: 0.2532\n",
      "Epoch 81, Loss: 0.2517\n",
      "Epoch 82, Loss: 0.2503\n",
      "Epoch 83, Loss: 0.2488\n",
      "Epoch 84, Loss: 0.2474\n",
      "Epoch 85, Loss: 0.2460\n",
      "Epoch 86, Loss: 0.2445\n",
      "Epoch 87, Loss: 0.2431\n",
      "Epoch 88, Loss: 0.2417\n",
      "Epoch 89, Loss: 0.2403\n",
      "Epoch 90, Loss: 0.2389\n",
      "Epoch 91, Loss: 0.2377\n",
      "Epoch 92, Loss: 0.2365\n",
      "Epoch 93, Loss: 0.2353\n",
      "Epoch 94, Loss: 0.2342\n",
      "Epoch 95, Loss: 0.2330\n",
      "Epoch 96, Loss: 0.2318\n",
      "Epoch 97, Loss: 0.2306\n",
      "Epoch 98, Loss: 0.2294\n",
      "Epoch 99, Loss: 0.2282\n"
     ]
    }
   ],
   "execution_count": 15
  },
  {
   "metadata": {
    "ExecuteTime": {
     "end_time": "2025-05-31T17:56:04.473581Z",
     "start_time": "2025-05-31T17:56:04.131504Z"
    }
   },
   "cell_type": "code",
   "source": [
    "model.eval()\n",
    "_, pred = model(data).max(dim=1)\n",
    "correct = int((pred[test_idx] == data.y[test_idx]).sum())\n",
    "acc = correct / len(test_idx)\n",
    "print(f\"Test Accuracy: {acc:.4f}\")"
   ],
   "id": "e4b3ca90ea1e6e55",
   "outputs": [
    {
     "name": "stdout",
     "output_type": "stream",
     "text": [
      "Test Accuracy: 0.9434\n"
     ]
    }
   ],
   "execution_count": 16
  }
 ],
 "metadata": {
  "kernelspec": {
   "display_name": "Python 3",
   "language": "python",
   "name": "python3"
  },
  "language_info": {
   "codemirror_mode": {
    "name": "ipython",
    "version": 2
   },
   "file_extension": ".py",
   "mimetype": "text/x-python",
   "name": "python",
   "nbconvert_exporter": "python",
   "pygments_lexer": "ipython2",
   "version": "2.7.6"
  }
 },
 "nbformat": 4,
 "nbformat_minor": 5
}
