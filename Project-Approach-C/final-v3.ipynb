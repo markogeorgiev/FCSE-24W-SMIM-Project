{
 "cells": [
  {
   "cell_type": "code",
   "id": "initial_id",
   "metadata": {
    "collapsed": true,
    "ExecuteTime": {
     "end_time": "2025-05-31T19:59:39.332014Z",
     "start_time": "2025-05-31T19:59:30.675803Z"
    }
   },
   "source": [
    "import os\n",
    "import sys\n",
    "import pandas as pd\n",
    "import torch\n",
    "import numpy as np\n",
    "import networkx as nx\n",
    "from sklearn.preprocessing import LabelEncoder, StandardScaler\n",
    "from sklearn.model_selection import train_test_split\n",
    "from sklearn.metrics import f1_score\n",
    "from torch_geometric.data import Data\n",
    "from torch_geometric.nn import NNConv\n",
    "import torch.nn as nn\n",
    "import torch.nn.functional as F"
   ],
   "outputs": [],
   "execution_count": 10
  },
  {
   "metadata": {
    "ExecuteTime": {
     "end_time": "2025-05-31T19:59:39.342448Z",
     "start_time": "2025-05-31T19:59:39.337135Z"
    }
   },
   "cell_type": "code",
   "source": [
    "device = torch.device(\"cuda\" if torch.cuda.is_available() else \"cpu\")\n",
    "print(\"Using device:\", device)"
   ],
   "id": "a507b2b414cb6142",
   "outputs": [
    {
     "name": "stdout",
     "output_type": "stream",
     "text": [
      "Using device: cpu\n"
     ]
    }
   ],
   "execution_count": 11
  },
  {
   "metadata": {
    "ExecuteTime": {
     "end_time": "2025-05-31T19:59:41.027368Z",
     "start_time": "2025-05-31T19:59:39.381449Z"
    }
   },
   "cell_type": "code",
   "source": [
    "CSV_PATH = '../datasets/data/NF-ToN-IoT.csv'\n",
    "df = pd.read_csv(CSV_PATH)\n",
    "# df = df.sample(frac=0.30, random_state=42)"
   ],
   "id": "56b673b61e1e8666",
   "outputs": [],
   "execution_count": 12
  },
  {
   "metadata": {
    "ExecuteTime": {
     "end_time": "2025-05-31T19:59:41.103140Z",
     "start_time": "2025-05-31T19:59:41.049114Z"
    }
   },
   "cell_type": "code",
   "source": [
    "label_encoder = LabelEncoder()\n",
    "df[\"label\"] = label_encoder.fit_transform(df[\"Label\"])"
   ],
   "id": "da983922da4a2655",
   "outputs": [],
   "execution_count": 13
  },
  {
   "metadata": {
    "ExecuteTime": {
     "end_time": "2025-05-31T19:59:42.897486Z",
     "start_time": "2025-05-31T19:59:41.159669Z"
    }
   },
   "cell_type": "code",
   "source": [
    "df[\"src_node\"] = df[\"IPV4_SRC_ADDR\"].astype(str) + \":\" + df[\"L4_SRC_PORT\"].astype(str)\n",
    "df[\"dst_node\"] = df[\"IPV4_DST_ADDR\"].astype(str) + \":\" + df[\"L4_DST_PORT\"].astype(str)"
   ],
   "id": "53822bf8cf27e7e0",
   "outputs": [],
   "execution_count": 14
  },
  {
   "metadata": {
    "ExecuteTime": {
     "end_time": "2025-05-31T19:59:45.050475Z",
     "start_time": "2025-05-31T19:59:42.911131Z"
    }
   },
   "cell_type": "code",
   "source": [
    "# Randomize IPs\n",
    "unique_src_ips = df[\"IPV4_SRC_ADDR\"].unique()\n",
    "new_ips = np.random.permutation(unique_src_ips)\n",
    "ip_map = dict(zip(unique_src_ips, new_ips))\n",
    "df[\"IPV4_SRC_ADDR\"] = df[\"IPV4_SRC_ADDR\"].map(ip_map)\n",
    "df[\"IPV4_DST_ADDR\"] = df[\"IPV4_DST_ADDR\"].map(lambda x: ip_map.get(x, x))\n",
    "df[\"src_node\"] = df[\"IPV4_SRC_ADDR\"].astype(str) + \":\" + df[\"L4_SRC_PORT\"].astype(str)\n",
    "df[\"dst_node\"] = df[\"IPV4_DST_ADDR\"].astype(str) + \":\" + df[\"L4_DST_PORT\"].astype(str)"
   ],
   "id": "befaaf06a6c84d2e",
   "outputs": [],
   "execution_count": 15
  },
  {
   "metadata": {
    "ExecuteTime": {
     "end_time": "2025-05-31T19:59:46.383315Z",
     "start_time": "2025-05-31T19:59:45.111566Z"
    }
   },
   "cell_type": "code",
   "source": [
    "all_nodes = pd.Index(df[\"src_node\"].tolist() + df[\"dst_node\"].tolist()).unique()\n",
    "ip_to_idx = {node: idx for idx, node in enumerate(all_nodes)}\n",
    "num_nodes = len(all_nodes)"
   ],
   "id": "fd4b782d4a37d854",
   "outputs": [],
   "execution_count": 16
  },
  {
   "metadata": {
    "ExecuteTime": {
     "end_time": "2025-05-31T19:59:46.536322Z",
     "start_time": "2025-05-31T19:59:46.416661Z"
    }
   },
   "cell_type": "code",
   "source": [
    "pkt_pair, byte_pair, flow_pair = {}, {}, {}\n",
    "node_total_flows = {node: 0 for node in all_nodes}\n",
    "node_attack_flows = {node: 0 for node in all_nodes}\n",
    "edge_list, edge_attr_list = [], []"
   ],
   "id": "5de73abf48a35117",
   "outputs": [],
   "execution_count": 17
  },
  {
   "metadata": {
    "ExecuteTime": {
     "end_time": "2025-05-31T19:59:46.913581Z",
     "start_time": "2025-05-31T19:59:46.773133Z"
    }
   },
   "cell_type": "code",
   "source": [
    "edge_list = []\n",
    "edge_attr_list = []\n",
    "pkt_pair = {}\n",
    "byte_pair = {}\n",
    "flow_pair = {}\n",
    "node_total_flows = {node: 0 for node in all_nodes}\n",
    "node_attack_flows = {node: 0 for node in all_nodes}"
   ],
   "id": "dd99ebcda8d16bae",
   "outputs": [],
   "execution_count": 18
  },
  {
   "metadata": {
    "ExecuteTime": {
     "end_time": "2025-05-31T20:00:00.283675Z",
     "start_time": "2025-05-31T19:59:47.128404Z"
    }
   },
   "cell_type": "code",
   "source": [
    "for row in df.itertuples(index=False):\n",
    "    src = row.src_node\n",
    "    dst = row.dst_node\n",
    "    src_idx = ip_to_idx[src]\n",
    "    dst_idx = ip_to_idx[dst]\n",
    "    in_pkts = row.IN_PKTS\n",
    "    out_pkts = row.OUT_PKTS\n",
    "    in_bytes = row.IN_BYTES\n",
    "    out_bytes = row.OUT_BYTES\n",
    "    duration = row.FLOW_DURATION_MILLISECONDS\n",
    "    flags = row.TCP_FLAGS\n",
    "    l7 = row.L7_PROTO\n",
    "    protocol = row.PROTOCOL\n",
    "    total_pkts = in_pkts + out_pkts\n",
    "    total_bytes = in_bytes + out_bytes\n",
    "\n",
    "    key = (src_idx, dst_idx)\n",
    "    pkt_pair[key] = pkt_pair.get(key, 0) + total_pkts\n",
    "    byte_pair[key] = byte_pair.get(key, 0) + total_bytes\n",
    "    flow_pair[key] = flow_pair.get(key, 0) + 1\n",
    "\n",
    "    node_total_flows[src] += 1\n",
    "    node_total_flows[dst] += 1\n",
    "    if row.label != 0:\n",
    "        node_attack_flows[src] += 1\n",
    "        node_attack_flows[dst] += 1\n",
    "\n",
    "    edge_list.append((src_idx, dst_idx))\n",
    "    edge_attr_list.append([in_bytes, out_bytes, in_pkts, out_pkts, duration, flags, l7, protocol])"
   ],
   "id": "1621782c62bbb5b",
   "outputs": [],
   "execution_count": 19
  },
  {
   "metadata": {
    "ExecuteTime": {
     "end_time": "2025-05-31T20:00:02.595124Z",
     "start_time": "2025-05-31T20:00:01.207612Z"
    }
   },
   "cell_type": "code",
   "source": [
    "filtered_edges, filtered_attrs = [], []\n",
    "for i, (src_idx, dst_idx) in enumerate(edge_list):\n",
    "    if pkt_pair.get((src_idx, dst_idx), 0) >= 50:\n",
    "        filtered_edges.append([src_idx, dst_idx])\n",
    "        filtered_attrs.append(edge_attr_list[i])\n",
    "\n",
    "if not filtered_edges:\n",
    "    raise ValueError(\"No edges meet the packet threshold.\")"
   ],
   "id": "e6cd98d9cb63ff47",
   "outputs": [],
   "execution_count": 20
  },
  {
   "metadata": {
    "ExecuteTime": {
     "end_time": "2025-05-31T20:00:03.599513Z",
     "start_time": "2025-05-31T20:00:03.531429Z"
    }
   },
   "cell_type": "code",
   "source": "edge_index = torch.tensor(filtered_edges, dtype=torch.long).t().contiguous().to(device)",
   "id": "e36ad7f273329cb6",
   "outputs": [],
   "execution_count": 21
  },
  {
   "metadata": {
    "ExecuteTime": {
     "end_time": "2025-05-31T20:00:05.417588Z",
     "start_time": "2025-05-31T20:00:04.576009Z"
    }
   },
   "cell_type": "code",
   "source": [
    "scaler = StandardScaler()\n",
    "edge_attr_np = scaler.fit_transform(filtered_attrs)\n",
    "edge_attr = torch.tensor(edge_attr_np, dtype=torch.float).to(device)"
   ],
   "id": "fecf772b0482b4f4",
   "outputs": [],
   "execution_count": 22
  },
  {
   "metadata": {
    "ExecuteTime": {
     "end_time": "2025-05-31T20:00:07.638363Z",
     "start_time": "2025-05-31T20:00:06.436014Z"
    }
   },
   "cell_type": "code",
   "source": [
    "G = nx.Graph()\n",
    "G.add_edges_from(edge_index.t().cpu().tolist())"
   ],
   "id": "a913a97c7d1198b8",
   "outputs": [],
   "execution_count": 23
  },
  {
   "metadata": {
    "ExecuteTime": {
     "end_time": "2025-05-31T20:00:39.710990Z",
     "start_time": "2025-05-31T20:00:08.740735Z"
    }
   },
   "cell_type": "code",
   "source": [
    "degree_dict = dict(G.degree())\n",
    "clustering_dict = nx.clustering(G)\n",
    "degree_arr = np.array([degree_dict.get(i, 0) for i in range(num_nodes)], dtype=float)\n",
    "clustering_arr = np.array([clustering_dict.get(i, 0.0) for i in range(num_nodes)], dtype=float)"
   ],
   "id": "dcfec03a7ac29614",
   "outputs": [],
   "execution_count": 24
  },
  {
   "metadata": {
    "ExecuteTime": {
     "end_time": "2025-05-31T20:00:40.620403Z",
     "start_time": "2025-05-31T20:00:40.616898Z"
    }
   },
   "cell_type": "code",
   "source": [
    "total_pkts_arr = np.zeros(num_nodes)\n",
    "total_bytes_arr = np.zeros(num_nodes)\n",
    "flow_count_arr = np.zeros(num_nodes)\n",
    "attack_fraction_arr = np.zeros(num_nodes)"
   ],
   "id": "208f7a6e7af9ae2b",
   "outputs": [],
   "execution_count": 25
  },
  {
   "metadata": {
    "ExecuteTime": {
     "end_time": "2025-05-31T20:00:42.577666Z",
     "start_time": "2025-05-31T20:00:41.701131Z"
    }
   },
   "cell_type": "code",
   "source": [
    "for (u, v), val in pkt_pair.items():\n",
    "    total_pkts_arr[u] += val\n",
    "    total_pkts_arr[v] += val\n",
    "for (u, v), val in byte_pair.items():\n",
    "    total_bytes_arr[u] += val\n",
    "    total_bytes_arr[v] += val\n",
    "\n",
    "for i, node in enumerate(all_nodes):\n",
    "    total = node_total_flows[node]\n",
    "    attacks = node_attack_flows[node]\n",
    "    flow_count_arr[i] = total\n",
    "    attack_fraction_arr[i] = attacks / total if total > 0 else 0.0"
   ],
   "id": "8179fae4674077bc",
   "outputs": [],
   "execution_count": 26
  },
  {
   "metadata": {
    "ExecuteTime": {
     "end_time": "2025-05-31T20:00:43.533347Z",
     "start_time": "2025-05-31T20:00:43.524761Z"
    }
   },
   "cell_type": "code",
   "source": [
    "node_stats = np.vstack([\n",
    "    degree_arr,\n",
    "    total_pkts_arr,\n",
    "    total_bytes_arr,\n",
    "    flow_count_arr,\n",
    "    attack_fraction_arr,\n",
    "    clustering_arr\n",
    "]).T"
   ],
   "id": "539c2a58bb035bbd",
   "outputs": [],
   "execution_count": 27
  },
  {
   "metadata": {
    "ExecuteTime": {
     "end_time": "2025-05-31T20:00:44.950260Z",
     "start_time": "2025-05-31T20:00:44.917420Z"
    }
   },
   "cell_type": "code",
   "source": "x = torch.tensor(StandardScaler().fit_transform(node_stats), dtype=torch.float).to(device)",
   "id": "7c11b84e89f6b885",
   "outputs": [],
   "execution_count": 28
  },
  {
   "metadata": {
    "ExecuteTime": {
     "end_time": "2025-05-31T20:00:46.531830Z",
     "start_time": "2025-05-31T20:00:46.448695Z"
    }
   },
   "cell_type": "code",
   "source": [
    "node_labels = np.array([\n",
    "    1 if node_total_flows[node] > 0 and (node_attack_flows[node] / node_total_flows[node]) >= 0.3 else 0\n",
    "    for node in all_nodes\n",
    "], dtype=int)"
   ],
   "id": "5dc9fc54cd841d68",
   "outputs": [],
   "execution_count": 29
  },
  {
   "metadata": {
    "ExecuteTime": {
     "end_time": "2025-05-31T20:00:47.827368Z",
     "start_time": "2025-05-31T20:00:47.820839Z"
    }
   },
   "cell_type": "code",
   "source": [
    "y = torch.tensor(node_labels, dtype=torch.long).to(device)\n",
    "data = Data(x=x, edge_index=edge_index, edge_attr=edge_attr, y=y)"
   ],
   "id": "5d262e95209db302",
   "outputs": [],
   "execution_count": 30
  },
  {
   "metadata": {},
   "cell_type": "code",
   "outputs": [],
   "execution_count": null,
   "source": [
    "idx = np.arange(data.num_nodes)\n",
    "train_idx, test_idx = train_test_split(idx, test_size=0.3, stratify=data.y.cpu())\n",
    "train_idx, val_idx = train_test_split(train_idx, test_size=0.15/0.7, stratify=data.y[train_idx].cpu())"
   ],
   "id": "3f763ec845e8ce0"
  },
  {
   "metadata": {},
   "cell_type": "code",
   "outputs": [],
   "execution_count": null,
   "source": [
    "train_mask = torch.zeros(data.num_nodes, dtype=torch.bool).to(device)\n",
    "val_mask = torch.zeros(data.num_nodes, dtype=torch.bool).to(device)\n",
    "test_mask = torch.zeros(data.num_nodes, dtype=torch.bool).to(device)\n",
    "train_mask[train_idx] = True\n",
    "val_mask[val_idx] = True\n",
    "test_mask[test_idx] = True"
   ],
   "id": "f6bc03ef0fb091f7"
  },
  {
   "metadata": {},
   "cell_type": "code",
   "outputs": [],
   "execution_count": null,
   "source": [
    "data.train_mask = train_mask\n",
    "data.val_mask = val_mask\n",
    "data.test_mask = test_mask"
   ],
   "id": "d18bb437ada5632c"
  },
  {
   "metadata": {},
   "cell_type": "code",
   "outputs": [],
   "execution_count": null,
   "source": [
    "class EdgeEnhancedGCN(nn.Module):\n",
    "    def __init__(self, in_channels, hidden_channels, out_channels, edge_dim):\n",
    "        super().__init__()\n",
    "        self.edge_mlp1 = nn.Sequential(\n",
    "            nn.Linear(edge_dim, hidden_channels * in_channels),\n",
    "            nn.ReLU(),\n",
    "            nn.Linear(hidden_channels * in_channels, in_channels * hidden_channels)\n",
    "        )\n",
    "        self.conv1 = NNConv(in_channels, hidden_channels, self.edge_mlp1, aggr='mean')\n",
    "\n",
    "        self.edge_mlp2 = nn.Sequential(\n",
    "            nn.Linear(edge_dim, hidden_channels * hidden_channels),\n",
    "            nn.ReLU(),\n",
    "            nn.Linear(hidden_channels * hidden_channels, hidden_channels * out_channels)\n",
    "        )\n",
    "        self.conv2 = NNConv(hidden_channels, out_channels, self.edge_mlp2, aggr='mean')\n",
    "\n",
    "        self.dropout = nn.Dropout(0.3)\n",
    "\n",
    "    def forward(self, data):\n",
    "        x, edge_index, edge_attr = data.x, data.edge_index, data.edge_attr\n",
    "        x = F.relu(self.conv1(x, edge_index, edge_attr))\n",
    "        x = self.dropout(x)\n",
    "        x = self.conv2(x, edge_index, edge_attr)\n",
    "        x = torch.clamp(x, -1e6, 1e6)\n",
    "        return x"
   ],
   "id": "464ac75a472b5784"
  },
  {
   "metadata": {},
   "cell_type": "code",
   "outputs": [],
   "execution_count": null,
   "source": [
    "in_dim = data.x.shape[1]\n",
    "hidden_dim = 32\n",
    "out_dim = 2\n",
    "edge_dim = data.edge_attr.shape[1]"
   ],
   "id": "1119aec911e80e7f"
  },
  {
   "metadata": {},
   "cell_type": "code",
   "outputs": [],
   "execution_count": null,
   "source": [
    "model = EdgeEnhancedGCN(in_dim, hidden_dim, out_dim, edge_dim).to(device)\n",
    "optimizer = torch.optim.Adam(model.parameters(), lr=0.005)\n",
    "\n",
    "class_weights = torch.tensor([\n",
    "    1.0,\n",
    "    (train_mask.sum().item() / max(1, (node_labels[train_mask.cpu()] == 1).sum()))\n",
    "], dtype=torch.float).to(device)\n",
    "\n",
    "loss_fn = nn.CrossEntropyLoss(weight=class_weights)"
   ],
   "id": "b9ab0228250dfd3d"
  },
  {
   "metadata": {},
   "cell_type": "code",
   "outputs": [],
   "execution_count": null,
   "source": [
    "best_val_f1 = 0.0\n",
    "epochs_without_improve = 0\n",
    "patience = 15"
   ],
   "id": "8262d4c0a86a8d87"
  },
  {
   "metadata": {},
   "cell_type": "code",
   "outputs": [],
   "execution_count": null,
   "source": [
    "for epoch in range(200):\n",
    "    model.train()\n",
    "    optimizer.zero_grad()\n",
    "    out = model(data)\n",
    "    loss = loss_fn(out[data.train_mask], data.y[data.train_mask])\n",
    "    loss.backward()\n",
    "    optimizer.step()\n",
    "\n",
    "    model.eval()\n",
    "    with torch.no_grad():\n",
    "        logits = model(data)\n",
    "        val_preds = logits[data.val_mask].argmax(dim=1).cpu().numpy()\n",
    "        val_true = data.y[data.val_mask].cpu().numpy()\n",
    "        val_f1 = f1_score(val_true, val_preds, average=\"weighted\")\n",
    "\n",
    "    if val_f1 > best_val_f1:\n",
    "        best_val_f1 = val_f1\n",
    "        torch.save(model.state_dict(), \"best_model.pt\")\n",
    "        epochs_without_improve = 0\n",
    "    else:\n",
    "        epochs_without_improve += 1\n",
    "        if epochs_without_improve >= patience:\n",
    "            break\n",
    "\n",
    "    print(f\"Epoch {epoch}, Loss: {loss.item():.4f}, Val F1: {val_f1:.4f}\")"
   ],
   "id": "cb05b5fcbc9ea0d1"
  },
  {
   "metadata": {},
   "cell_type": "code",
   "outputs": [],
   "execution_count": null,
   "source": [
    "from sklearn.metrics import f1_score, precision_score, recall_score\n",
    "\n",
    "model.load_state_dict(torch.load(\"best_model.pt\"))\n",
    "model.eval()\n",
    "with torch.no_grad():\n",
    "    logits = model(data)\n",
    "    test_preds = logits[data.test_mask].argmax(dim=1).cpu().numpy()\n",
    "    test_true = data.y[data.test_mask].cpu().numpy()\n",
    "\n",
    "    test_f1 = f1_score(test_true, test_preds, average=\"weighted\")\n",
    "    test_precision = precision_score(test_true, test_preds, average=\"weighted\", zero_division=0)\n",
    "    test_recall = recall_score(test_true, test_preds, average=\"weighted\", zero_division=0)\n",
    "    acc = (test_preds == test_true).sum() / len(test_true)\n",
    "\n",
    "print(f\"Test Accuracy: {acc:.4f}\")\n",
    "print(f\"Test Weighted F1: {test_f1:.4f}\")\n",
    "print(f\"Test Weighted Precision: {test_precision:.4f}\")\n",
    "print(f\"Test Weighted Recall: {test_recall:.4f}\")"
   ],
   "id": "64e8f746885838ed"
  },
  {
   "metadata": {},
   "cell_type": "markdown",
   "source": [
    "```Output base model: \n",
    "Using device: cuda\n",
    "Epoch 0, Loss: 0.7441, Val F1: 0.5357\n",
    "Epoch 1, Loss: 0.6976, Val F1: 0.9971\n",
    "Epoch 2, Loss: 0.6508, Val F1: 0.9874\n",
    "Epoch 3, Loss: 0.7190, Val F1: 0.9871\n",
    "Epoch 4, Loss: 0.6067, Val F1: 0.9868\n",
    "Epoch 5, Loss: 0.5903, Val F1: 0.9868\n",
    "Epoch 6, Loss: 0.5644, Val F1: 0.9863\n",
    "Epoch 7, Loss: 0.5383, Val F1: 0.9862\n",
    "Epoch 8, Loss: 0.5324, Val F1: 0.9860\n",
    "Epoch 9, Loss: 0.5119, Val F1: 0.9860\n",
    "Epoch 10, Loss: 0.4807, Val F1: 0.9860\n",
    "Epoch 11, Loss: 0.4679, Val F1: 0.9863\n",
    "Epoch 12, Loss: 0.4515, Val F1: 0.9863\n",
    "Epoch 13, Loss: 0.4357, Val F1: 0.9863\n",
    "Epoch 14, Loss: 0.4178, Val F1: 0.9863\n",
    "Epoch 15, Loss: 0.3886, Val F1: 0.9863\n",
    "Test Accuracy: 0.9976, Test Weighted F1: 0.9976"
   ],
   "id": "a55b0a6337a89d40"
  }
 ],
 "metadata": {
  "kernelspec": {
   "display_name": "Python 3",
   "language": "python",
   "name": "python3"
  },
  "language_info": {
   "codemirror_mode": {
    "name": "ipython",
    "version": 2
   },
   "file_extension": ".py",
   "mimetype": "text/x-python",
   "name": "python",
   "nbconvert_exporter": "python",
   "pygments_lexer": "ipython2",
   "version": "2.7.6"
  }
 },
 "nbformat": 4,
 "nbformat_minor": 5
}
