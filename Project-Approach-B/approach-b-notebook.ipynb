{
 "cells": [
  {
   "cell_type": "code",
   "id": "initial_id",
   "metadata": {
    "collapsed": true,
    "ExecuteTime": {
     "end_time": "2025-05-05T16:13:28.132661Z",
     "start_time": "2025-05-05T16:13:24.706135Z"
    }
   },
   "source": "!pip install pandas networkx",
   "outputs": [
    {
     "name": "stdout",
     "output_type": "stream",
     "text": [
      "Requirement already satisfied: pandas in c:\\users\\marko\\pycharmprojects\\fcse-24w-smim-project\\.venv\\lib\\site-packages (2.2.3)\n",
      "Requirement already satisfied: networkx in c:\\users\\marko\\pycharmprojects\\fcse-24w-smim-project\\.venv\\lib\\site-packages (3.4.2)\n",
      "Requirement already satisfied: numpy>=1.26.0 in c:\\users\\marko\\pycharmprojects\\fcse-24w-smim-project\\.venv\\lib\\site-packages (from pandas) (2.2.5)\n",
      "Requirement already satisfied: python-dateutil>=2.8.2 in c:\\users\\marko\\pycharmprojects\\fcse-24w-smim-project\\.venv\\lib\\site-packages (from pandas) (2.9.0.post0)\n",
      "Requirement already satisfied: pytz>=2020.1 in c:\\users\\marko\\pycharmprojects\\fcse-24w-smim-project\\.venv\\lib\\site-packages (from pandas) (2025.2)\n",
      "Requirement already satisfied: tzdata>=2022.7 in c:\\users\\marko\\pycharmprojects\\fcse-24w-smim-project\\.venv\\lib\\site-packages (from pandas) (2025.2)\n",
      "Requirement already satisfied: six>=1.5 in c:\\users\\marko\\pycharmprojects\\fcse-24w-smim-project\\.venv\\lib\\site-packages (from python-dateutil>=2.8.2->pandas) (1.17.0)\n"
     ]
    },
    {
     "name": "stderr",
     "output_type": "stream",
     "text": [
      "\n",
      "[notice] A new release of pip is available: 23.2.1 -> 25.1.1\n",
      "[notice] To update, run: python.exe -m pip install --upgrade pip\n"
     ]
    }
   ],
   "execution_count": 1
  },
  {
   "metadata": {},
   "cell_type": "markdown",
   "source": [
    "This script uses NetworkX and builds a MultiDiGraph with five views:\n",
    "- Flow view between IPs\n",
    "- DNS view (IP → domain)\n",
    "- HTTP view (IP → URI)\n",
    "- SSL view (IP → certificate subject and issuer)\n",
    "- Violation view (IP → protocol violation type)\n"
   ],
   "id": "dc04706ec25295b5"
  },
  {
   "metadata": {
    "ExecuteTime": {
     "end_time": "2025-05-05T16:22:22.593667Z",
     "start_time": "2025-05-05T16:21:50.539548Z"
    }
   },
   "cell_type": "code",
   "source": [
    "import pandas as pd\n",
    "import networkx as nx\n",
    "\n",
    "df = pd.read_csv(\"../datasets/train_test_network.csv\")\n",
    "\n",
    "G = nx.MultiDiGraph()\n",
    "\n",
    "for _, row in df.iterrows():\n",
    "    src_ip = row['src_ip']\n",
    "    dst_ip = row['dst_ip']\n",
    "\n",
    "    G.add_edge(\n",
    "        src_ip, dst_ip,\n",
    "        key=\"flow\",\n",
    "        proto=row.get(\"proto\"),\n",
    "        service=row.get(\"service\"),\n",
    "        duration=row.get(\"duration\"),\n",
    "        src_bytes=row.get(\"src_bytes\"),\n",
    "        dst_bytes=row.get(\"dst_bytes\"),\n",
    "        conn_state=row.get(\"conn_state\"),\n",
    "        label=row.get(\"label\"),\n",
    "        attack_type=row.get(\"type\")\n",
    "    )\n",
    "\n",
    "    if pd.notna(row.get(\"dns_query\")):\n",
    "        dns_domain = row[\"dns_query\"]\n",
    "        G.add_edge(\n",
    "            src_ip, dns_domain,\n",
    "            key=\"dns_query\",\n",
    "            qclass=row.get(\"dns_qclass\"),\n",
    "            qtype=row.get(\"dns_qtype\"),\n",
    "            rcode=row.get(\"dns_rcode\"),\n",
    "            dns_AA=row.get(\"dns_AA\"),\n",
    "            dns_RD=row.get(\"dns_RD\"),\n",
    "            dns_RA=row.get(\"dns_RA\"),\n",
    "            dns_rejected=row.get(\"dns_rejected\")\n",
    "        )\n",
    "\n",
    "    if pd.notna(row.get(\"http_uri\")):\n",
    "        http_target = row[\"http_uri\"]\n",
    "        G.add_edge(\n",
    "            src_ip, http_target,\n",
    "            key=\"http_request\",\n",
    "            method=row.get(\"http_method\"),\n",
    "            version=row.get(\"http_version\"),\n",
    "            status_code=row.get(\"http_status_code\"),\n",
    "            trans_depth=row.get(\"http_trans_depth\"),\n",
    "            req_body_len=row.get(\"http_request_body_len\"),\n",
    "            resp_body_len=row.get(\"http_response_body_len\"),\n",
    "            user_agent=row.get(\"http_user_agent\"),\n",
    "            orig_mime=row.get(\"http_orig_mime_types\"),\n",
    "            resp_mime=row.get(\"http_resp_mime_types\")\n",
    "        )\n",
    "\n",
    "    if pd.notna(row.get(\"ssl_subject\")):\n",
    "        G.add_edge(\n",
    "            src_ip, row[\"ssl_subject\"],\n",
    "            key=\"ssl_subject\",\n",
    "            ssl_version=row.get(\"ssl_version\"),\n",
    "            ssl_cipher=row.get(\"ssl_cipher\"),\n",
    "            ssl_resumed=row.get(\"ssl_resumed\"),\n",
    "            ssl_established=row.get(\"ssl_established\")\n",
    "        )\n",
    "\n",
    "    if pd.notna(row.get(\"ssl_issuer\")):\n",
    "        G.add_edge(\n",
    "            src_ip, row[\"ssl_issuer\"],\n",
    "            key=\"ssl_issuer\",\n",
    "            ssl_version=row.get(\"ssl_version\"),\n",
    "            ssl_cipher=row.get(\"ssl_cipher\"),\n",
    "            ssl_resumed=row.get(\"ssl_resumed\"),\n",
    "            ssl_established=row.get(\"ssl_established\")\n",
    "        )\n",
    "\n",
    "    if pd.notna(row.get(\"weird_name\")):\n",
    "        G.add_edge(\n",
    "            src_ip, row[\"weird_name\"],\n",
    "            key=\"protocol_violation\",\n",
    "            weird_addl=row.get(\"weird_addl\"),\n",
    "            weird_notice=row.get(\"weird_notice\")\n",
    "        )\n",
    "        \n",
    "print(f\"Graph built with {G.number_of_nodes()} nodes and {G.number_of_edges()} edges.\")\n",
    "print(\"Edge types (views) include:\", set(k for _, _, k in G.edges(keys=True)))"
   ],
   "id": "fadc84ba5d847590",
   "outputs": [
    {
     "name": "stdout",
     "output_type": "stream",
     "text": [
      "Graph built with 1605 nodes and 2554 edges.\n",
      "Edge types (views) include: {'flow', 'dns_query', 'protocol_violation', 'ssl_subject', 'http_request', 'ssl_issuer'}\n"
     ]
    }
   ],
   "execution_count": 6
  },
  {
   "metadata": {},
   "cell_type": "markdown",
   "source": [
    "## TODO: DIMKA\n",
    "Write the code for \n",
    "### 1. Community Detection\n",
    "Apply clustering or community detection algorithms on specific views:\n",
    "- flow → group IPs that communicate frequently\n",
    "- dns_query → group IPs that query similar domains (suspicious beaconing behavior?)\n",
    "- http_request → group clients based on similar URLs\n",
    "\n",
    "### 2. Node Centrality Analysis\n",
    "Compute betweenness centrality, eigenvector centrality, or PageRank on:\n",
    "- Flow view → who routes/relays the most traffic?\n",
    "- DNS view → which domains are queried the most?\n",
    "- SSL view → which certificate subjects appear most often?\n",
    "\n",
    "### 3. Subgraph Classification\n",
    "Identify entire attack sessions or patterns from subgraph structure.\n",
    "- Split the graph into time-windowed subgraphs (e.g., every minute)\n",
    "- Label windows based on whether they contain attacks\n",
    "- Use a GNN or graph kernel to classify attack vs benign windows\n",
    "\n"
   ],
   "id": "fa54a593b7eff982"
  },
  {
   "metadata": {},
   "cell_type": "code",
   "outputs": [],
   "execution_count": null,
   "source": "",
   "id": "65fc3e817cc1fe2e"
  }
 ],
 "metadata": {
  "kernelspec": {
   "display_name": "Python 3",
   "language": "python",
   "name": "python3"
  },
  "language_info": {
   "codemirror_mode": {
    "name": "ipython",
    "version": 2
   },
   "file_extension": ".py",
   "mimetype": "text/x-python",
   "name": "python",
   "nbconvert_exporter": "python",
   "pygments_lexer": "ipython2",
   "version": "2.7.6"
  }
 },
 "nbformat": 4,
 "nbformat_minor": 5
}
